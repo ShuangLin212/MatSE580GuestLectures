{
 "cells": [
  {
   "cell_type": "code",
   "execution_count": 155,
   "metadata": {},
   "outputs": [],
   "source": [
    "import json"
   ]
  },
  {
   "attachments": {},
   "cell_type": "markdown",
   "metadata": {},
   "source": [
    "### Query Functions"
   ]
  },
  {
   "cell_type": "code",
   "execution_count": 156,
   "metadata": {},
   "outputs": [],
   "source": [
    "def find_by_phase_name(name):\n",
    "    \"\"\"Find an entry by its ESPEI-PhaseName.\"\"\"\n",
    "    return database.get(name, None)\n",
    "\n",
    "def find_by_space_group_number(space_group_number):\n",
    "    \"\"\"Retrieve all entries with a given Space_Group_Number.\"\"\"\n",
    "    return {key: value for key, value in database.items() if value[\"Space_Group_Number\"] == space_group_number}\n",
    "\n",
    "def find_by_wyckoff_position_and_ratio(*args):\n",
    "    \"\"\"\n",
    "    Find all entries where the Wyckoff_Positions contains specific positions and their corresponding ratios.\n",
    "    Accepts up to 8 positions and 8 ratios.\n",
    "    \"\"\"\n",
    "    positions = args[:len(args)//2]\n",
    "    ratios = args[len(args)//2:]\n",
    "    \n",
    "    results = {}\n",
    "    for key, value in database.items():\n",
    "        wyckoff_positions = value[\"Wyckoff_Positions\"]\n",
    "        \n",
    "        # Check if positions and their corresponding ratios exist in the entry\n",
    "        match = True\n",
    "        for pos, rat in zip(positions, ratios):\n",
    "            if pos not in wyckoff_positions[1]:\n",
    "                match = False\n",
    "                break\n",
    "            position_index = wyckoff_positions[1].index(pos)\n",
    "            if wyckoff_positions[2][position_index] != rat:\n",
    "                match = False\n",
    "                break\n",
    "                \n",
    "        if match:\n",
    "            results[key] = value\n",
    "                \n",
    "    return results\n",
    "\n",
    "def find_by_prototype(prototype):\n",
    "    \"\"\"Retrieve entries based on the Prototype value.\"\"\"\n",
    "    return {key: value for key, value in database.items() if value[\"Prototype\"] == prototype}\n"
   ]
  },
  {
   "attachments": {},
   "cell_type": "markdown",
   "metadata": {},
   "source": [
    "## Load the ESPEI-name.JSON database"
   ]
  },
  {
   "cell_type": "code",
   "execution_count": 157,
   "metadata": {},
   "outputs": [],
   "source": [
    "# Open the file for reading\n",
    "with open('ESPEI-name.json', 'r') as file:\n",
    "    database = json.load(file)"
   ]
  },
  {
   "attachments": {},
   "cell_type": "markdown",
   "metadata": {},
   "source": [
    "## Demonstration using the function:\n",
    "\n",
    "### 1. Find entry by its ESPEI Phase Name"
   ]
  },
  {
   "cell_type": "code",
   "execution_count": 158,
   "metadata": {},
   "outputs": [
    {
     "name": "stdout",
     "output_type": "stream",
     "text": [
      "{'ESPEI-PhaseName': 'LAVES_C15', 'Aliases_Name': 'C15', 'Space_Group_Number': 227, 'Strukturbericht_Designation': 'C15', 'Prototype': 'Cu2Mg', 'Wyckoff_Positions': ['ad', ['a', 'd'], [8, 16]], 'Comments': 'CubicLaves, SGTE', 'aflow_ID': ['A2B_cF24_227_d_a']}\n"
     ]
    }
   ],
   "source": [
    "result_phase_name = find_by_phase_name(\"LAVES_C15\")\n",
    "print(result_phase_name)"
   ]
  },
  {
   "attachments": {},
   "cell_type": "markdown",
   "metadata": {},
   "source": [
    "### 2. Find entry by its space group number"
   ]
  },
  {
   "cell_type": "code",
   "execution_count": 159,
   "metadata": {},
   "outputs": [
    {
     "name": "stdout",
     "output_type": "stream",
     "text": [
      "{'E93_227': {'ESPEI-PhaseName': 'E93_227', 'Aliases_Name': 'E93', 'Space_Group_Number': 227, 'Strukturbericht_Designation': 'E93', 'Prototype': 'CFe3W3', 'Wyckoff_Positions': ['cdef', ['c', 'd', 'e', 'f'], [16, 16, 32, 48]], 'Comments': None, 'aflow_ID': []}, 'Si34_227': {'ESPEI-PhaseName': 'Si34_227', 'Aliases_Name': 'Clathrate', 'Space_Group_Number': 227, 'Strukturbericht_Designation': None, 'Prototype': 'Si34', 'Wyckoff_Positions': ['aeg', ['a', 'e', 'g'], [8, 32, 96]], 'Comments': 'Clathrate', 'aflow_ID': ['A_cF136_227_aeg']}, 'B32_227': {'ESPEI-PhaseName': 'B32_227', 'Aliases_Name': 'B32', 'Space_Group_Number': 227, 'Strukturbericht_Designation': 'B32', 'Prototype': 'NaTl', 'Wyckoff_Positions': ['ab', ['a', 'b'], [8, 8]], 'Comments': None, 'aflow_ID': ['AB_cF16_227_a_b']}, 'LAVES_C15': {'ESPEI-PhaseName': 'LAVES_C15', 'Aliases_Name': 'C15', 'Space_Group_Number': 227, 'Strukturbericht_Designation': 'C15', 'Prototype': 'Cu2Mg', 'Wyckoff_Positions': ['ad', ['a', 'd'], [8, 16]], 'Comments': 'CubicLaves, SGTE', 'aflow_ID': ['A2B_cF24_227_d_a']}, 'C9_227': {'ESPEI-PhaseName': 'C9_227', 'Aliases_Name': 'C9, Idealbeta-Cristobalite', 'Space_Group_Number': 227, 'Strukturbericht_Designation': 'C9', 'Prototype': 'O2Si', 'Wyckoff_Positions': ['ac', ['a', 'c'], [8, 16]], 'Comments': 'Idealbeta-Cristobalite', 'aflow_ID': ['A2B_cF24_227_c_a']}, 'Ca33Ge_227': {'ESPEI-PhaseName': 'Ca33Ge_227', 'Aliases_Name': None, 'Space_Group_Number': 227, 'Strukturbericht_Designation': None, 'Prototype': 'Ca33Ge', 'Wyckoff_Positions': ['ce', ['c', 'e'], [16, 32]], 'Comments': 'alsoCTi2', 'aflow_ID': ['AB2_cF48_227_c_e']}, 'H11_227': {'ESPEI-PhaseName': 'H11_227', 'Aliases_Name': 'H11, Spinel', 'Space_Group_Number': 227, 'Strukturbericht_Designation': 'H11', 'Prototype': 'Al2MgO4', 'Wyckoff_Positions': ['ade', ['a', 'd', 'e'], [8, 16, 32]], 'Comments': 'Spinel', 'aflow_ID': []}, 'A4_227': {'ESPEI-PhaseName': 'A4_227', 'Aliases_Name': 'A4, DIAMOND_A4', 'Space_Group_Number': 227, 'Strukturbericht_Designation': 'A4', 'Prototype': 'C', 'Wyckoff_Positions': ['a', ['a'], [8]], 'Comments': 'Diamond, SGTE-DIAMOND_A4', 'aflow_ID': ['A_cF8_227_a']}, 'NiTi2_227': {'ESPEI-PhaseName': 'NiTi2_227', 'Aliases_Name': None, 'Space_Group_Number': 227, 'Strukturbericht_Designation': None, 'Prototype': 'NiTi2', 'Wyckoff_Positions': ['def', ['d', 'e', 'f'], [16, 32, 48]], 'Comments': None, 'aflow_ID': []}, 'ade_227': {'Space_Group_Number': 227, 'Comments': 'From aflow library', 'Aliases_Name': None, 'Prototype': 'Spinel', 'Strukturbericht_Designation': 'H1_1', 'Wyckoff_Positions': ['ade', ['a', 'd', 'e'], [8, 16, 32]], 'ESPEI-PhaseName': 'ade_227', 'aflow_ID': ['A2BC4_cF56_227_d_a_e']}, 'cef_227': {'Space_Group_Number': 227, 'Comments': 'From aflow library', 'Aliases_Name': None, 'Prototype': 'NiTi2', 'Strukturbericht_Designation': None, 'Wyckoff_Positions': ['cef', ['c', 'e', 'f'], [16, 32, 48]], 'ESPEI-PhaseName': 'cef_227', 'aflow_ID': ['AB2_cF96_227_e_cf']}, 'acdf_227': {'Space_Group_Number': 227, 'Comments': 'From aflow library', 'Aliases_Name': None, 'Prototype': 'Pyrochlore Iridate', 'Strukturbericht_Designation': None, 'Wyckoff_Positions': ['acdf', ['a', 'c', 'd', 'f'], [8, 16, 16, 48]], 'ESPEI-PhaseName': 'acdf_227', 'aflow_ID': ['A2B2C7_cF88_227_c_d_af']}, 'cdef_227': {'Space_Group_Number': 227, 'Comments': 'From aflow library', 'Aliases_Name': None, 'Prototype': 'Fe3W3C', 'Strukturbericht_Designation': 'E9_3', 'Wyckoff_Positions': ['cdef', ['c', 'd', 'e', 'f'], [16, 16, 32, 48]], 'ESPEI-PhaseName': 'cdef_227', 'aflow_ID': ['AB3C3_cF112_227_c_de_f']}}\n"
     ]
    }
   ],
   "source": [
    "result_space_group = find_by_space_group_number(227)\n",
    "print(result_space_group)"
   ]
  },
  {
   "attachments": {},
   "cell_type": "markdown",
   "metadata": {},
   "source": [
    "### 3. Find entry by its wyckoff position and ratio"
   ]
  },
  {
   "cell_type": "code",
   "execution_count": 162,
   "metadata": {},
   "outputs": [
    {
     "name": "stdout",
     "output_type": "stream",
     "text": [
      "{'ade2fg_203': {'Space_Group_Number': 203, 'Comments': 'From aflow library', 'Aliases_Name': None, 'Prototype': 'Tychite', 'Strukturbericht_Designation': None, 'Wyckoff_Positions': ['ade2fg', ['a', 'd', 'e', 'e', 'f', 'g'], [8, 16, 32, 32, 48, 96]], 'ESPEI-PhaseName': 'ade2fg_203', 'aflow_ID': ['A4B2C6D16E_cF232_203_e_d_f_eg_a']}}\n"
     ]
    }
   ],
   "source": [
    "result_wyckoff_position_and_ratio = find_by_wyckoff_position_and_ratio('a', 'd', 'e', 'e', 'f', 'g', 8, 16, 32, 32, 48, 96)\n",
    "print(result_wyckoff_position_and_ratio)"
   ]
  },
  {
   "attachments": {},
   "cell_type": "markdown",
   "metadata": {},
   "source": [
    "### 4. Find entry by its prototype"
   ]
  },
  {
   "cell_type": "code",
   "execution_count": 161,
   "metadata": {},
   "outputs": [
    {
     "name": "stdout",
     "output_type": "stream",
     "text": [
      "{'LAVES_C15': {'ESPEI-PhaseName': 'LAVES_C15', 'Aliases_Name': 'C15', 'Space_Group_Number': 227, 'Strukturbericht_Designation': 'C15', 'Prototype': 'Cu2Mg', 'Wyckoff_Positions': ['ad', ['a', 'd'], [8, 16]], 'Comments': 'CubicLaves, SGTE', 'aflow_ID': ['A2B_cF24_227_d_a']}}\n"
     ]
    }
   ],
   "source": [
    "result_prototype = find_by_prototype(\"Cu2Mg\")\n",
    "print(result_prototype)\n"
   ]
  }
 ],
 "metadata": {
  "kernelspec": {
   "display_name": "Python 3",
   "language": "python",
   "name": "python3"
  },
  "language_info": {
   "codemirror_mode": {
    "name": "ipython",
    "version": 3
   },
   "file_extension": ".py",
   "mimetype": "text/x-python",
   "name": "python",
   "nbconvert_exporter": "python",
   "pygments_lexer": "ipython3",
   "version": "3.9.7"
  },
  "vscode": {
   "interpreter": {
    "hash": "aee8b7b246df8f9039afb4144a1f6fd8d2ca17a180786b69acc140d282b71a49"
   }
  }
 },
 "nbformat": 4,
 "nbformat_minor": 4
}
