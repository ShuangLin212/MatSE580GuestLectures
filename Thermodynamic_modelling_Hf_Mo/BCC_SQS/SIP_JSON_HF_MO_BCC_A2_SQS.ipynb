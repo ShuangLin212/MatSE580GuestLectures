{
 "cells": [
  {
   "cell_type": "code",
   "execution_count": 1,
   "id": "8b96833d",
   "metadata": {},
   "outputs": [],
   "source": [
    "import json\n",
    "import pandas as pd\n",
    "import numpy as np\n",
    "import itertools"
   ]
  },
  {
   "cell_type": "code",
   "execution_count": 2,
   "id": "e44378b6",
   "metadata": {},
   "outputs": [],
   "source": [
    "binary_system = ['HF','MO']\n",
    "components = ['HF','MO','VA']\n",
    "phase_name = \"BCC_A2\"\n",
    "sublattice_site_ratios = [1,3]\n",
    "#sublattice_occupancies = [0.5,0.5]"
   ]
  },
  {
   "cell_type": "code",
   "execution_count": 3,
   "id": "e63cd280",
   "metadata": {},
   "outputs": [],
   "source": [
    "df = pd.read_csv(\"predictions_2022-16-Sep-17-59.csv\")\n",
    "df1 = pd.read_csv(\"BCC_sqsdftresult.csv\") # dft"
   ]
  },
  {
   "cell_type": "code",
   "execution_count": 4,
   "id": "8e306726",
   "metadata": {},
   "outputs": [
    {
     "data": {
      "text/html": [
       "<div>\n",
       "<style scoped>\n",
       "    .dataframe tbody tr th:only-of-type {\n",
       "        vertical-align: middle;\n",
       "    }\n",
       "\n",
       "    .dataframe tbody tr th {\n",
       "        vertical-align: top;\n",
       "    }\n",
       "\n",
       "    .dataframe thead th {\n",
       "        text-align: right;\n",
       "    }\n",
       "</style>\n",
       "<table border=\"1\" class=\"dataframe\">\n",
       "  <thead>\n",
       "    <tr style=\"text-align: right;\">\n",
       "      <th></th>\n",
       "      <th>BCC_sqs</th>\n",
       "      <th>Method</th>\n",
       "      <th>V0(A^3)</th>\n",
       "      <th>E0(eV)</th>\n",
       "      <th>B(GPa)</th>\n",
       "      <th>BP</th>\n",
       "      <th>B2P</th>\n",
       "      <th>av_diff</th>\n",
       "      <th>Hf</th>\n",
       "      <th>Mo</th>\n",
       "      <th>C_element1</th>\n",
       "      <th>H_Form(ev/atom)</th>\n",
       "      <th>method_pv</th>\n",
       "      <th>V0(A^3)_pv</th>\n",
       "      <th>E0(eV)_pv</th>\n",
       "      <th>B(GPa)_pv</th>\n",
       "      <th>BP_pv</th>\n",
       "      <th>B2P_pv</th>\n",
       "      <th>av_diff_pv</th>\n",
       "    </tr>\n",
       "  </thead>\n",
       "  <tbody>\n",
       "    <tr>\n",
       "      <th>0</th>\n",
       "      <td>1</td>\n",
       "      <td>3.0</td>\n",
       "      <td>328.2674</td>\n",
       "      <td>-162.2429</td>\n",
       "      <td>122.0907</td>\n",
       "      <td>3.8461</td>\n",
       "      <td>-0.0308</td>\n",
       "      <td>0.1110</td>\n",
       "      <td>12</td>\n",
       "      <td>4</td>\n",
       "      <td>0.75</td>\n",
       "      <td>0.060444</td>\n",
       "      <td>3.0</td>\n",
       "      <td>327.554397</td>\n",
       "      <td>-0.0</td>\n",
       "      <td>122.812984</td>\n",
       "      <td>3.896404</td>\n",
       "      <td>-0.030909</td>\n",
       "      <td>0.036133</td>\n",
       "    </tr>\n",
       "    <tr>\n",
       "      <th>1</th>\n",
       "      <td>2</td>\n",
       "      <td>3.0</td>\n",
       "      <td>272.8527</td>\n",
       "      <td>-170.6441</td>\n",
       "      <td>204.3325</td>\n",
       "      <td>4.1914</td>\n",
       "      <td>-0.0201</td>\n",
       "      <td>0.1152</td>\n",
       "      <td>4</td>\n",
       "      <td>12</td>\n",
       "      <td>0.25</td>\n",
       "      <td>0.025219</td>\n",
       "      <td>3.0</td>\n",
       "      <td>272.275322</td>\n",
       "      <td>-0.0</td>\n",
       "      <td>205.264410</td>\n",
       "      <td>4.286920</td>\n",
       "      <td>-0.020745</td>\n",
       "      <td>0.026376</td>\n",
       "    </tr>\n",
       "    <tr>\n",
       "      <th>2</th>\n",
       "      <td>3</td>\n",
       "      <td>3.0</td>\n",
       "      <td>298.1556</td>\n",
       "      <td>-166.3130</td>\n",
       "      <td>153.3922</td>\n",
       "      <td>4.3245</td>\n",
       "      <td>-0.0282</td>\n",
       "      <td>0.1497</td>\n",
       "      <td>8</td>\n",
       "      <td>8</td>\n",
       "      <td>0.50</td>\n",
       "      <td>0.050988</td>\n",
       "      <td>3.0</td>\n",
       "      <td>297.797552</td>\n",
       "      <td>-0.0</td>\n",
       "      <td>153.032141</td>\n",
       "      <td>4.118781</td>\n",
       "      <td>-0.026281</td>\n",
       "      <td>0.030358</td>\n",
       "    </tr>\n",
       "  </tbody>\n",
       "</table>\n",
       "</div>"
      ],
      "text/plain": [
       "   BCC_sqs  Method   V0(A^3)    E0(eV)    B(GPa)      BP     B2P  av_diff  Hf  \\\n",
       "0        1     3.0  328.2674 -162.2429  122.0907  3.8461 -0.0308   0.1110  12   \n",
       "1        2     3.0  272.8527 -170.6441  204.3325  4.1914 -0.0201   0.1152   4   \n",
       "2        3     3.0  298.1556 -166.3130  153.3922  4.3245 -0.0282   0.1497   8   \n",
       "\n",
       "   Mo  C_element1  H_Form(ev/atom)  method_pv  V0(A^3)_pv  E0(eV)_pv  \\\n",
       "0   4        0.75         0.060444        3.0  327.554397       -0.0   \n",
       "1  12        0.25         0.025219        3.0  272.275322       -0.0   \n",
       "2   8        0.50         0.050988        3.0  297.797552       -0.0   \n",
       "\n",
       "    B(GPa)_pv     BP_pv    B2P_pv  av_diff_pv  \n",
       "0  122.812984  3.896404 -0.030909    0.036133  \n",
       "1  205.264410  4.286920 -0.020745    0.026376  \n",
       "2  153.032141  4.118781 -0.026281    0.030358  "
      ]
     },
     "execution_count": 4,
     "metadata": {},
     "output_type": "execute_result"
    }
   ],
   "source": [
    "df1"
   ]
  },
  {
   "cell_type": "code",
   "execution_count": 6,
   "id": "104e6fc8",
   "metadata": {},
   "outputs": [],
   "source": [
    "df['J/mol-atom'] = df.iloc[:,1] * 96491"
   ]
  },
  {
   "cell_type": "code",
   "execution_count": 7,
   "id": "f5b24d37",
   "metadata": {},
   "outputs": [
    {
     "data": {
      "text/html": [
       "<div>\n",
       "<style scoped>\n",
       "    .dataframe tbody tr th:only-of-type {\n",
       "        vertical-align: middle;\n",
       "    }\n",
       "\n",
       "    .dataframe tbody tr th {\n",
       "        vertical-align: top;\n",
       "    }\n",
       "\n",
       "    .dataframe thead th {\n",
       "        text-align: right;\n",
       "    }\n",
       "</style>\n",
       "<table border=\"1\" class=\"dataframe\">\n",
       "  <thead>\n",
       "    <tr style=\"text-align: right;\">\n",
       "      <th></th>\n",
       "      <th>File Name</th>\n",
       "      <th>Predicted dH [eV/atom]</th>\n",
       "      <th>J/mol-atom</th>\n",
       "    </tr>\n",
       "  </thead>\n",
       "  <tbody>\n",
       "    <tr>\n",
       "      <th>0</th>\n",
       "      <td>1_BCC_A2_sqs_structure.POSCAR</td>\n",
       "      <td>0.115599</td>\n",
       "      <td>11154.249350</td>\n",
       "    </tr>\n",
       "    <tr>\n",
       "      <th>1</th>\n",
       "      <td>2_BCC_A2_sqs_structure.POSCAR</td>\n",
       "      <td>0.078668</td>\n",
       "      <td>7590.743761</td>\n",
       "    </tr>\n",
       "    <tr>\n",
       "      <th>2</th>\n",
       "      <td>3_BCC_A2_sqs_structure.POSCAR</td>\n",
       "      <td>0.215497</td>\n",
       "      <td>20793.488150</td>\n",
       "    </tr>\n",
       "  </tbody>\n",
       "</table>\n",
       "</div>"
      ],
      "text/plain": [
       "                       File Name   Predicted dH [eV/atom]    J/mol-atom\n",
       "0  1_BCC_A2_sqs_structure.POSCAR                 0.115599  11154.249350\n",
       "1  2_BCC_A2_sqs_structure.POSCAR                 0.078668   7590.743761\n",
       "2  3_BCC_A2_sqs_structure.POSCAR                 0.215497  20793.488150"
      ]
     },
     "execution_count": 7,
     "metadata": {},
     "output_type": "execute_result"
    }
   ],
   "source": [
    "df.head()"
   ]
  },
  {
   "cell_type": "code",
   "execution_count": 8,
   "id": "f2d808b7",
   "metadata": {},
   "outputs": [
    {
     "data": {
      "text/plain": [
       "[11154.249349653719, 7590.743760511274, 20793.488150477406]"
      ]
     },
     "execution_count": 8,
     "metadata": {},
     "output_type": "execute_result"
    }
   ],
   "source": [
    "HM_FORM =[]\n",
    "for i in range(0,3):\n",
    "    HM_FORM.append(float(df.iloc[i,2]))\n",
    "HM_FORM"
   ]
  },
  {
   "cell_type": "code",
   "execution_count": 9,
   "id": "227cf5ae",
   "metadata": {},
   "outputs": [
    {
     "data": {
      "text/plain": [
       "[5832.2778812500965, 2433.3824062498747, 4919.8348625001445]"
      ]
     },
     "execution_count": 9,
     "metadata": {},
     "output_type": "execute_result"
    }
   ],
   "source": [
    "HM_FORM_dft =[]\n",
    "for i in range(0,3):\n",
    "    HM_FORM_dft.append(float(df1.iloc[i,11])*96491)\n",
    "HM_FORM_dft"
   ]
  },
  {
   "cell_type": "code",
   "execution_count": 10,
   "id": "753e7035",
   "metadata": {},
   "outputs": [],
   "source": [
    "sublattice_occupancies_1 = [[0.75,0.25],1]\n",
    "sublattice_occupancies_2 = [[0.25,0.75],1]\n",
    "sublattice_occupancies_3 = [[0.5,0.5],1]\n",
    "sublattice_occupancies = [sublattice_occupancies_1,sublattice_occupancies_2,sublattice_occupancies_3]\n"
   ]
  },
  {
   "cell_type": "code",
   "execution_count": 11,
   "id": "3472944f",
   "metadata": {},
   "outputs": [],
   "source": [
    "configuration_1 = [[\"HF\",\"MO\"],\"VA\"]\n",
    "configuration_2 = [[\"HF\",\"MO\"],\"VA\"]\n",
    "configuration_3 = [[\"HF\",\"MO\"],\"VA\"]\n",
    "configuration = [configuration_1,configuration_2,configuration_3]"
   ]
  },
  {
   "cell_type": "code",
   "execution_count": 12,
   "id": "848136d3",
   "metadata": {},
   "outputs": [],
   "source": [
    "dictionary1 ={\n",
    "  \"components\": components,\n",
    "  \"phases\": [phase_name],\n",
    "  \"solver\": {\n",
    "\t  \"mode\": \"manual\",\n",
    "\t  \"sublattice_site_ratios\": sublattice_site_ratios,\n",
    "      \"sublattice_occupancies\": sublattice_occupancies,\n",
    "\t  \"sublattice_configurations\": configuration\n",
    "  },\n",
    "  \"conditions\": {\n",
    "\t  \"P\": 101325,\n",
    "\t  \"T\": 298.15\n",
    "  },\n",
    "  \"output\": \"HM_FORM\",\n",
    "    \"values\":   [[HM_FORM]],\n",
    "  \"reference\": \"SQS_SIPFEEN\"\n",
    "}\n",
    "with open(phase_name+\"_HMFORM_sqs_structure_SIPFENN.json\", \"w\") as outfile:\n",
    "        json.dump(dictionary1, outfile,indent=1)"
   ]
  },
  {
   "cell_type": "code",
   "execution_count": 13,
   "id": "49e7589d",
   "metadata": {},
   "outputs": [],
   "source": [
    "dictionary1 ={\n",
    "  \"components\": components,\n",
    "  \"phases\": [phase_name],\n",
    "  \"solver\": {\n",
    "\t  \"mode\": \"manual\",\n",
    "\t  \"sublattice_site_ratios\": sublattice_site_ratios,\n",
    "      \"sublattice_occupancies\": sublattice_occupancies,\n",
    "\t  \"sublattice_configurations\": configuration\n",
    "  },\n",
    "  \"conditions\": {\n",
    "\t  \"P\": 101325,\n",
    "\t  \"T\": 298.15\n",
    "  },\n",
    "  \"output\": \"HM_FORM\",\n",
    "    \"values\":   [[HM_FORM_dft]],\n",
    "  \"reference\": \"SQS_dft\"\n",
    "}\n",
    "with open(phase_name+\"_HMFORM_sqs_structure_dft.json\", \"w\") as outfile:\n",
    "        json.dump(dictionary1, outfile,indent=1)"
   ]
  }
 ],
 "metadata": {
  "kernelspec": {
   "display_name": "Python 3",
   "language": "python",
   "name": "python3"
  },
  "language_info": {
   "codemirror_mode": {
    "name": "ipython",
    "version": 3
   },
   "file_extension": ".py",
   "mimetype": "text/x-python",
   "name": "python",
   "nbconvert_exporter": "python",
   "pygments_lexer": "ipython3",
   "version": "3.9.7"
  },
  "vscode": {
   "interpreter": {
    "hash": "aee8b7b246df8f9039afb4144a1f6fd8d2ca17a180786b69acc140d282b71a49"
   }
  }
 },
 "nbformat": 4,
 "nbformat_minor": 5
}
