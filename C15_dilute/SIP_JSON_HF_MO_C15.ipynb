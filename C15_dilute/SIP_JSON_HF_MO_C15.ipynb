{
 "cells": [
  {
   "cell_type": "code",
   "execution_count": 1,
   "id": "8b96833d",
   "metadata": {},
   "outputs": [],
   "source": [
    "import json\n",
    "import pandas as pd\n",
    "import numpy as np\n",
    "import itertools"
   ]
  },
  {
   "cell_type": "code",
   "execution_count": 2,
   "id": "e44378b6",
   "metadata": {},
   "outputs": [],
   "source": [
    "binary_system = ['HF','MO']\n",
    "phase_name = \"LAVES_C15\"\n",
    "sublattice_site_ratios = [1,2]\n",
    "components= ['HF','MO']"
   ]
  },
  {
   "cell_type": "code",
   "execution_count": 3,
   "id": "e63cd280",
   "metadata": {},
   "outputs": [],
   "source": [
    "# Replace 'your_file.csv' with the actual path to your CSV file\n",
    "csv_file = 'C15_dilutedftresult.csv'\n",
    "dft = pd.read_csv(csv_file) # dft\n",
    "df = pd.read_csv(\"predictions_2022-16-Sep-15-32.csv\")"
   ]
  },
  {
   "cell_type": "code",
   "execution_count": 4,
   "id": "8e306726",
   "metadata": {},
   "outputs": [
    {
     "data": {
      "text/html": [
       "<div>\n",
       "<style scoped>\n",
       "    .dataframe tbody tr th:only-of-type {\n",
       "        vertical-align: middle;\n",
       "    }\n",
       "\n",
       "    .dataframe tbody tr th {\n",
       "        vertical-align: top;\n",
       "    }\n",
       "\n",
       "    .dataframe thead th {\n",
       "        text-align: right;\n",
       "    }\n",
       "</style>\n",
       "<table border=\"1\" class=\"dataframe\">\n",
       "  <thead>\n",
       "    <tr style=\"text-align: right;\">\n",
       "      <th></th>\n",
       "      <th>File_Name</th>\n",
       "      <th>Predicted dH [eV/atom]</th>\n",
       "    </tr>\n",
       "  </thead>\n",
       "  <tbody>\n",
       "    <tr>\n",
       "      <th>0</th>\n",
       "      <td>1_Laves_C15_dilute_structure.POSCAR</td>\n",
       "      <td>-0.054850</td>\n",
       "    </tr>\n",
       "    <tr>\n",
       "      <th>1</th>\n",
       "      <td>2_Laves_C15_dilute_structure.POSCAR</td>\n",
       "      <td>-0.052142</td>\n",
       "    </tr>\n",
       "    <tr>\n",
       "      <th>2</th>\n",
       "      <td>3_Laves_C15_dilute_structure.POSCAR</td>\n",
       "      <td>-0.036454</td>\n",
       "    </tr>\n",
       "    <tr>\n",
       "      <th>3</th>\n",
       "      <td>4_Laves_C15_dilute_structure.POSCAR</td>\n",
       "      <td>-0.070902</td>\n",
       "    </tr>\n",
       "    <tr>\n",
       "      <th>4</th>\n",
       "      <td>5_Laves_C15_dilute_structure.POSCAR</td>\n",
       "      <td>-0.092421</td>\n",
       "    </tr>\n",
       "    <tr>\n",
       "      <th>5</th>\n",
       "      <td>6_Laves_C15_dilute_structure.POSCAR</td>\n",
       "      <td>-0.051463</td>\n",
       "    </tr>\n",
       "    <tr>\n",
       "      <th>6</th>\n",
       "      <td>7_Laves_C15_dilute_structure.POSCAR</td>\n",
       "      <td>-0.031645</td>\n",
       "    </tr>\n",
       "    <tr>\n",
       "      <th>7</th>\n",
       "      <td>8_Laves_C15_dilute_structure.POSCAR</td>\n",
       "      <td>-0.068807</td>\n",
       "    </tr>\n",
       "  </tbody>\n",
       "</table>\n",
       "</div>"
      ],
      "text/plain": [
       "                             File_Name   Predicted dH [eV/atom]\n",
       "0  1_Laves_C15_dilute_structure.POSCAR                -0.054850\n",
       "1  2_Laves_C15_dilute_structure.POSCAR                -0.052142\n",
       "2  3_Laves_C15_dilute_structure.POSCAR                -0.036454\n",
       "3  4_Laves_C15_dilute_structure.POSCAR                -0.070902\n",
       "4  5_Laves_C15_dilute_structure.POSCAR                -0.092421\n",
       "5  6_Laves_C15_dilute_structure.POSCAR                -0.051463\n",
       "6  7_Laves_C15_dilute_structure.POSCAR                -0.031645\n",
       "7  8_Laves_C15_dilute_structure.POSCAR                -0.068807"
      ]
     },
     "execution_count": 4,
     "metadata": {},
     "output_type": "execute_result"
    }
   ],
   "source": [
    "df"
   ]
  },
  {
   "cell_type": "code",
   "execution_count": 5,
   "id": "2d509dc7",
   "metadata": {},
   "outputs": [],
   "source": [
    "df1=df.File_Name.str.split('_')\n",
    "df2 =[]\n",
    "for i in df1:\n",
    "    df2.append(float(i[0]))"
   ]
  },
  {
   "cell_type": "code",
   "execution_count": 6,
   "id": "9abedf73",
   "metadata": {},
   "outputs": [
    {
     "data": {
      "text/html": [
       "<div>\n",
       "<style scoped>\n",
       "    .dataframe tbody tr th:only-of-type {\n",
       "        vertical-align: middle;\n",
       "    }\n",
       "\n",
       "    .dataframe tbody tr th {\n",
       "        vertical-align: top;\n",
       "    }\n",
       "\n",
       "    .dataframe thead th {\n",
       "        text-align: right;\n",
       "    }\n",
       "</style>\n",
       "<table border=\"1\" class=\"dataframe\">\n",
       "  <thead>\n",
       "    <tr style=\"text-align: right;\">\n",
       "      <th></th>\n",
       "      <th>File_Name</th>\n",
       "      <th>Predicted dH [eV/atom]</th>\n",
       "      <th>index</th>\n",
       "      <th>J/mol-atom</th>\n",
       "    </tr>\n",
       "  </thead>\n",
       "  <tbody>\n",
       "    <tr>\n",
       "      <th>0</th>\n",
       "      <td>1_Laves_C15_dilute_structure.POSCAR</td>\n",
       "      <td>-0.054850</td>\n",
       "      <td>1.0</td>\n",
       "      <td>-5292.529324</td>\n",
       "    </tr>\n",
       "    <tr>\n",
       "      <th>1</th>\n",
       "      <td>2_Laves_C15_dilute_structure.POSCAR</td>\n",
       "      <td>-0.052142</td>\n",
       "      <td>2.0</td>\n",
       "      <td>-5031.191073</td>\n",
       "    </tr>\n",
       "    <tr>\n",
       "      <th>2</th>\n",
       "      <td>3_Laves_C15_dilute_structure.POSCAR</td>\n",
       "      <td>-0.036454</td>\n",
       "      <td>3.0</td>\n",
       "      <td>-3517.471721</td>\n",
       "    </tr>\n",
       "    <tr>\n",
       "      <th>3</th>\n",
       "      <td>4_Laves_C15_dilute_structure.POSCAR</td>\n",
       "      <td>-0.070902</td>\n",
       "      <td>4.0</td>\n",
       "      <td>-6841.360786</td>\n",
       "    </tr>\n",
       "    <tr>\n",
       "      <th>4</th>\n",
       "      <td>5_Laves_C15_dilute_structure.POSCAR</td>\n",
       "      <td>-0.092421</td>\n",
       "      <td>5.0</td>\n",
       "      <td>-8917.753992</td>\n",
       "    </tr>\n",
       "  </tbody>\n",
       "</table>\n",
       "</div>"
      ],
      "text/plain": [
       "                             File_Name   Predicted dH [eV/atom]  index  \\\n",
       "0  1_Laves_C15_dilute_structure.POSCAR                -0.054850    1.0   \n",
       "1  2_Laves_C15_dilute_structure.POSCAR                -0.052142    2.0   \n",
       "2  3_Laves_C15_dilute_structure.POSCAR                -0.036454    3.0   \n",
       "3  4_Laves_C15_dilute_structure.POSCAR                -0.070902    4.0   \n",
       "4  5_Laves_C15_dilute_structure.POSCAR                -0.092421    5.0   \n",
       "\n",
       "    J/mol-atom  \n",
       "0 -5292.529324  \n",
       "1 -5031.191073  \n",
       "2 -3517.471721  \n",
       "3 -6841.360786  \n",
       "4 -8917.753992  "
      ]
     },
     "execution_count": 6,
     "metadata": {},
     "output_type": "execute_result"
    }
   ],
   "source": [
    "df['index']=df2\n",
    "df3 = df.sort_values(by = 'index')\n",
    "df3['J/mol-atom'] = df.iloc[:,1] * 96491\n",
    "df3.head()"
   ]
  },
  {
   "cell_type": "code",
   "execution_count": 7,
   "id": "f2d808b7",
   "metadata": {},
   "outputs": [
    {
     "data": {
      "text/plain": [
       "[-5292.529323689,\n",
       " -5031.191072978,\n",
       " -3517.471721044,\n",
       " -6841.360785613,\n",
       " -8917.753991798001,\n",
       " -4965.721061059,\n",
       " -3053.471686195,\n",
       " -6639.226614263001]"
      ]
     },
     "execution_count": 7,
     "metadata": {},
     "output_type": "execute_result"
    }
   ],
   "source": [
    "HM_FORM =[]\n",
    "for i in range(0,8):\n",
    "    HM_FORM.append(float(df3.iloc[i,3]))\n",
    "HM_FORM"
   ]
  },
  {
   "cell_type": "code",
   "execution_count": 8,
   "id": "61a3a967",
   "metadata": {},
   "outputs": [],
   "source": [
    "sublattice_occupancies1 = [[[0.0625,0.9375],1]]\n",
    "sublattice_occupancies2 = [[[0.9375,0.0625],1]]\n",
    "sublattice_occupancies3 = [[1,[0.03125,0.96875]]]\n",
    "sublattice_occupancies4 = [[1,[0.96875,0.03125]]]"
   ]
  },
  {
   "cell_type": "code",
   "execution_count": 9,
   "id": "165dae19",
   "metadata": {},
   "outputs": [
    {
     "name": "stdout",
     "output_type": "stream",
     "text": [
      "[[[0.0625, 0.9375], 1], [[0.0625, 0.9375], 1], [[0.9375, 0.0625], 1], [[0.9375, 0.0625], 1], [1, [0.03125, 0.96875]], [1, [0.03125, 0.96875]], [1, [0.96875, 0.03125]], [1, [0.96875, 0.03125]]]\n"
     ]
    }
   ],
   "source": [
    "sublattice_occupancies= []\n",
    "test1 =sublattice_occupancies1*2\n",
    "test2 =sublattice_occupancies2*2\n",
    "test3 =sublattice_occupancies3*2\n",
    "test4 =sublattice_occupancies4*2\n",
    "for i in test1:sublattice_occupancies.append(i)\n",
    "for i in test2:sublattice_occupancies.append(i)\n",
    "for i in test3:sublattice_occupancies.append(i)\n",
    "for i in test4:sublattice_occupancies.append(i)\n",
    "print(sublattice_occupancies)"
   ]
  },
  {
   "cell_type": "code",
   "execution_count": 10,
   "id": "4943153d",
   "metadata": {},
   "outputs": [],
   "source": [
    "b=[]\n",
    "#subsititute the first sublattice \n",
    "listOLists1 = [[binary_system[0]+' '+binary_system[1]],binary_system]\n",
    "for i in itertools.product(*listOLists1):\n",
    "    b.append(i)\n",
    "listOLists2 = [[binary_system[1]+' '+binary_system[0]],binary_system]\n",
    "for i in itertools.product(*listOLists2):\n",
    "    b.append(i)\n"
   ]
  },
  {
   "cell_type": "code",
   "execution_count": 11,
   "id": "2bb2dab7",
   "metadata": {},
   "outputs": [],
   "source": [
    "#subsititute the second sublattice \n",
    "listOLists1 = [binary_system,[binary_system[0]+' '+binary_system[1]]]\n",
    "for i in itertools.product(*listOLists1):\n",
    "    b.append(i)\n",
    "listOLists2 = [binary_system,[binary_system[1]+' '+binary_system[0]]]\n",
    "for i in itertools.product(*listOLists2):\n",
    "    b.append(i)"
   ]
  },
  {
   "cell_type": "code",
   "execution_count": 12,
   "id": "33edf208",
   "metadata": {},
   "outputs": [
    {
     "data": {
      "text/plain": [
       "[('HF MO', 'HF'),\n",
       " ('HF MO', 'MO'),\n",
       " ('MO HF', 'HF'),\n",
       " ('MO HF', 'MO'),\n",
       " ('HF', 'HF MO'),\n",
       " ('MO', 'HF MO'),\n",
       " ('HF', 'MO HF'),\n",
       " ('MO', 'MO HF')]"
      ]
     },
     "execution_count": 12,
     "metadata": {},
     "output_type": "execute_result"
    }
   ],
   "source": [
    "b"
   ]
  },
  {
   "cell_type": "code",
   "execution_count": 13,
   "id": "b3fc87de",
   "metadata": {
    "scrolled": false
   },
   "outputs": [],
   "source": [
    "c = [list(ele) for ele in b]"
   ]
  },
  {
   "cell_type": "code",
   "execution_count": 14,
   "id": "99578646",
   "metadata": {
    "scrolled": true
   },
   "outputs": [
    {
     "name": "stdout",
     "output_type": "stream",
     "text": [
      "[[['HF', 'MO'], 'HF'], [['HF', 'MO'], 'MO'], [['HF', 'MO'], 'HF'], [['HF', 'MO'], 'MO'], ['HF', ['HF', 'MO']], ['MO', ['HF', 'MO']], ['HF', ['HF', 'MO']], ['MO', ['HF', 'MO']]]\n"
     ]
    }
   ],
   "source": [
    "new = []\n",
    "configuration=[]\n",
    "for i in c:\n",
    "    for j in i:\n",
    "        if len(j) > 4:\n",
    "            j= sorted(j.split(' '))\n",
    "        new.append(j)\n",
    "    configuration.append(new)\n",
    "    new =[]\n",
    "print(configuration)"
   ]
  },
  {
   "cell_type": "code",
   "execution_count": 15,
   "id": "848136d3",
   "metadata": {},
   "outputs": [],
   "source": [
    "dictionary1 ={\n",
    "  \"components\": components,\n",
    "  \"phases\": [phase_name],\n",
    "  \"solver\": {\n",
    "\t  \"mode\": \"manual\",\n",
    "\t  \"sublattice_site_ratios\": sublattice_site_ratios,\n",
    "      \"sublattice_occupancies\": sublattice_occupancies,\n",
    "\t  \"sublattice_configurations\": configuration\n",
    "  },\n",
    "  \"conditions\": {\n",
    "\t  \"P\": 101325,\n",
    "\t  \"T\": 298.15\n",
    "  },\n",
    "  \"output\": \"HM_FORM\",\n",
    "    \"values\":   [[HM_FORM]],\n",
    "  \"reference\": \"dilute_SIPFEEN\"\n",
    "}\n",
    "with open(phase_name+\"_HMFORM_dilute_structure_SIPFENN.json\", \"w\") as outfile:\n",
    "        json.dump(dictionary1, outfile,indent=1)"
   ]
  },
  {
   "cell_type": "code",
   "execution_count": 17,
   "id": "ee44ec78",
   "metadata": {},
   "outputs": [
    {
     "data": {
      "text/plain": [
       "[-10042.300825000164,\n",
       " -9205.040377083298,\n",
       " -7598.264204166712,\n",
       " -4209.419874999981]"
      ]
     },
     "execution_count": 17,
     "metadata": {},
     "output_type": "execute_result"
    }
   ],
   "source": [
    "HM_FORM_dft =[]\n",
    "for i in range(0,4):\n",
    "    HM_FORM_dft.append(float(dft.iloc[i,11])*96491)\n",
    "HM_FORM_dft"
   ]
  },
  {
   "cell_type": "code",
   "execution_count": 27,
   "id": "49e7589d",
   "metadata": {},
   "outputs": [],
   "source": [
    "dilute = [['HF', ['HF', 'MO']], ['HF', ['HF','MO']], [['HF','MO'], 'MO'], [['HF','MO'], 'MO']]"
   ]
  },
  {
   "cell_type": "code",
   "execution_count": 28,
   "id": "457bc4d6",
   "metadata": {},
   "outputs": [],
   "source": [
    "dilute_occupancies = [[1, [0.03125,0.96875]], [1, [0.0625,0.9375]], [[0.9375,0.0625], 1], [[0.875,0.125], 1]]"
   ]
  },
  {
   "cell_type": "code",
   "execution_count": 29,
   "id": "b19a5f54",
   "metadata": {},
   "outputs": [],
   "source": [
    "dictionary1 ={\n",
    "  \"components\": components,\n",
    "  \"phases\": [phase_name],\n",
    "  \"solver\": {\n",
    "\t  \"mode\": \"manual\",\n",
    "\t  \"sublattice_site_ratios\": sublattice_site_ratios,\n",
    "      \"sublattice_occupancies\": dilute_occupancies,\n",
    "\t  \"sublattice_configurations\": dilute\n",
    "  },\n",
    "  \"conditions\": {\n",
    "\t  \"P\": 101325,\n",
    "\t  \"T\": 298.15\n",
    "  },\n",
    "  \"output\": \"HM_FORM\",\n",
    "    \"values\":   [[HM_FORM_dft]],\n",
    "  \"reference\": \"dilute_dft\"\n",
    "}\n",
    "with open(phase_name+\"_HMFORM_dilute_structure_dft.json\", \"w\") as outfile:\n",
    "        json.dump(dictionary1, outfile,indent=1)"
   ]
  }
 ],
 "metadata": {
  "kernelspec": {
   "display_name": "Python 3",
   "language": "python",
   "name": "python3"
  },
  "language_info": {
   "codemirror_mode": {
    "name": "ipython",
    "version": 3
   },
   "file_extension": ".py",
   "mimetype": "text/x-python",
   "name": "python",
   "nbconvert_exporter": "python",
   "pygments_lexer": "ipython3",
   "version": "3.9.7"
  },
  "vscode": {
   "interpreter": {
    "hash": "aee8b7b246df8f9039afb4144a1f6fd8d2ca17a180786b69acc140d282b71a49"
   }
  }
 },
 "nbformat": 4,
 "nbformat_minor": 5
}
