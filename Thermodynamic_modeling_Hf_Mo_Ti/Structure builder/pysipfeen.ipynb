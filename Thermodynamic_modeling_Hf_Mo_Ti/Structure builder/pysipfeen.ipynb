{
 "cells": [
  {
   "cell_type": "code",
   "execution_count": 1,
   "metadata": {},
   "outputs": [
    {
     "name": "stderr",
     "output_type": "stream",
     "text": [
      "/Users/shuanglin/opt/anaconda3/envs/pysipfenn/lib/python3.9/site-packages/tqdm/auto.py:22: TqdmWarning: IProgress not found. Please update jupyter and ipywidgets. See https://ipywidgets.readthedocs.io/en/stable/user_install.html\n",
      "  from .autonotebook import tqdm as notebook_tqdm\n"
     ]
    }
   ],
   "source": [
    "import pysipfenn\n",
    "from pysipfenn import Calculator     # The only thing needed for calculations\n",
    "from pprint import pprint            # pretty printing\n",
    "from collections import defaultdict  # convenience in the example"
   ]
  },
  {
   "cell_type": "code",
   "execution_count": 2,
   "metadata": {},
   "outputs": [
    {
     "name": "stdout",
     "output_type": "stream",
     "text": [
      "✔ SIPFENN_Krajewski2020 Standard Materials Model\n",
      "✔ SIPFENN_Krajewski2020 Novel Materials Model\n",
      "✔ SIPFENN_Krajewski2020 Light Model\n",
      "✔ SIPFENN_Krajewski2022 KS2022 Novel Materials Model\n",
      "Loading models:\n"
     ]
    },
    {
     "name": "stderr",
     "output_type": "stream",
     "text": [
      "100%|██████████| 4/4 [00:25<00:00,  6.28s/it]"
     ]
    },
    {
     "name": "stdout",
     "output_type": "stream",
     "text": [
      "*********  PySIPFENN Successfully Initialized  **********\n"
     ]
    },
    {
     "name": "stderr",
     "output_type": "stream",
     "text": [
      "\n"
     ]
    }
   ],
   "source": [
    "c = Calculator()"
   ]
  },
  {
   "cell_type": "code",
   "execution_count": 3,
   "metadata": {},
   "outputs": [
    {
     "name": "stdout",
     "output_type": "stream",
     "text": [
      "Importing structures...\n"
     ]
    },
    {
     "name": "stderr",
     "output_type": "stream",
     "text": [
      "100%|██████████| 9/9 [00:00<00:00, 35.73it/s]\n"
     ]
    },
    {
     "name": "stdout",
     "output_type": "stream",
     "text": [
      "\n",
      "Models that will be run: ['SIPFENN_Krajewski2022_NN30']\n",
      "Calculating descriptors...\n"
     ]
    },
    {
     "name": "stderr",
     "output_type": "stream",
     "text": [
      "100%|██████████| 9/9 [00:00<00:00, 14.71it/s]\n"
     ]
    },
    {
     "name": "stdout",
     "output_type": "stream",
     "text": [
      "Done!\n",
      "Making predictions...\n",
      "Obtained predictions from:  SIPFENN_Krajewski2022_NN30\n",
      "Done!\n"
     ]
    }
   ],
   "source": [
    "c.runFromDirectory(directory='LAVES_C15_endmembers',\n",
    "                   descriptor='KS2022',\n",
    "                   mode='serial');\n",
    "c.writeResultsToCSV('LAVES_C15_pySIPFENN.csv')"
   ]
  },
  {
   "cell_type": "code",
   "execution_count": 6,
   "metadata": {},
   "outputs": [
    {
     "name": "stdout",
     "output_type": "stream",
     "text": [
      "Importing structures...\n"
     ]
    },
    {
     "name": "stderr",
     "output_type": "stream",
     "text": [
      "100%|██████████| 243/243 [00:00<00:00, 1912.24it/s]\n"
     ]
    },
    {
     "name": "stdout",
     "output_type": "stream",
     "text": [
      "\n",
      "Models that will be run: ['SIPFENN_Krajewski2022_NN30']\n",
      "Calculating descriptors...\n"
     ]
    },
    {
     "name": "stderr",
     "output_type": "stream",
     "text": [
      "100%|██████████| 243/243 [00:23<00:00, 10.28it/s]\n"
     ]
    },
    {
     "name": "stdout",
     "output_type": "stream",
     "text": [
      "Done!\n",
      "Making predictions...\n",
      "Obtained predictions from:  SIPFENN_Krajewski2022_NN30\n",
      "Done!\n"
     ]
    }
   ],
   "source": [
    "c.runFromDirectory(directory='LAVES_C36_endmembers',\n",
    "                   descriptor='KS2022',\n",
    "                   mode='serial');\n",
    "c.writeResultsToCSV('LAVES_C36_pySIPFENN.csv')"
   ]
  },
  {
   "cell_type": "code",
   "execution_count": null,
   "metadata": {},
   "outputs": [],
   "source": []
  },
  {
   "cell_type": "code",
   "execution_count": 7,
   "metadata": {},
   "outputs": [
    {
     "name": "stdout",
     "output_type": "stream",
     "text": [
      "Importing structures...\n"
     ]
    },
    {
     "name": "stderr",
     "output_type": "stream",
     "text": [
      "100%|██████████| 4/4 [00:00<00:00, 442.48it/s]\n"
     ]
    },
    {
     "name": "stdout",
     "output_type": "stream",
     "text": [
      "\n",
      "Models that will be run: ['SIPFENN_Krajewski2022_NN30']\n",
      "Calculating descriptors...\n"
     ]
    },
    {
     "name": "stderr",
     "output_type": "stream",
     "text": [
      "100%|██████████| 4/4 [00:03<00:00,  1.03it/s]"
     ]
    },
    {
     "name": "stdout",
     "output_type": "stream",
     "text": [
      "Done!\n",
      "Making predictions...\n",
      "Obtained predictions from:  SIPFENN_Krajewski2022_NN30\n",
      "Done!\n"
     ]
    },
    {
     "name": "stderr",
     "output_type": "stream",
     "text": [
      "\n"
     ]
    }
   ],
   "source": [
    "c.runFromDirectory(directory='SQS_HCP',\n",
    "                   descriptor='KS2022',\n",
    "                   mode='serial');\n",
    "c.writeResultsToCSV('SQS_HCP_pySIPFENN.csv')"
   ]
  },
  {
   "cell_type": "code",
   "execution_count": 8,
   "metadata": {},
   "outputs": [
    {
     "name": "stdout",
     "output_type": "stream",
     "text": [
      "Importing structures...\n"
     ]
    },
    {
     "name": "stderr",
     "output_type": "stream",
     "text": [
      "100%|██████████| 4/4 [00:00<00:00, 460.77it/s]\n"
     ]
    },
    {
     "name": "stdout",
     "output_type": "stream",
     "text": [
      "\n",
      "Models that will be run: ['SIPFENN_Krajewski2022_NN30']\n",
      "Calculating descriptors...\n"
     ]
    },
    {
     "name": "stderr",
     "output_type": "stream",
     "text": [
      "100%|██████████| 4/4 [00:03<00:00,  1.29it/s]"
     ]
    },
    {
     "name": "stdout",
     "output_type": "stream",
     "text": [
      "Done!\n",
      "Making predictions...\n",
      "Obtained predictions from:  SIPFENN_Krajewski2022_NN30\n",
      "Done!\n"
     ]
    },
    {
     "name": "stderr",
     "output_type": "stream",
     "text": [
      "\n"
     ]
    }
   ],
   "source": [
    "c.runFromDirectory(directory='SQS_BCC',\n",
    "                   descriptor='KS2022',\n",
    "                   mode='serial');\n",
    "c.writeResultsToCSV('SQS_BCC_pySIPFENN.csv')"
   ]
  }
 ],
 "metadata": {
  "kernelspec": {
   "display_name": "pysipfenn",
   "language": "python",
   "name": "python3"
  },
  "language_info": {
   "codemirror_mode": {
    "name": "ipython",
    "version": 3
   },
   "file_extension": ".py",
   "mimetype": "text/x-python",
   "name": "python",
   "nbconvert_exporter": "python",
   "pygments_lexer": "ipython3",
   "version": "3.9.15"
  },
  "orig_nbformat": 4
 },
 "nbformat": 4,
 "nbformat_minor": 2
}
